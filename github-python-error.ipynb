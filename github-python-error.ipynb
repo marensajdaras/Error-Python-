{
 "cells": [
  {
   "cell_type": "code",
   "execution_count": 1,
   "metadata": {},
   "outputs": [],
   "source": [
    "import os "
   ]
  },
  {
   "cell_type": "markdown",
   "metadata": {},
   "source": [
    "os module common errors"
   ]
  },
  {
   "cell_type": "code",
   "execution_count": 3,
   "metadata": {},
   "outputs": [
    {
     "name": "stdout",
     "output_type": "stream",
     "text": [
      "c:\\Users\\User\\Desktop\\Github\\osmodule\n"
     ]
    }
   ],
   "source": [
    "# \"no such file in directory\" is one of the common error related to os module and trying to enter a specified file \n",
    "# it is a good practice to know in what file and directory the program is stored(saved)\n",
    "# getcwd() method of os module return the current working directory \n",
    "cwd = os.getcwd()\n",
    "#print\n",
    "print(cwd)\n",
    "\n",
    "\n",
    "\n",
    "\n",
    "\n",
    "\n"
   ]
  },
  {
   "cell_type": "markdown",
   "metadata": {},
   "source": [
    "if you do not know where you are you can change the path with os.chdir()"
   ]
  },
  {
   "cell_type": "code",
   "execution_count": 4,
   "metadata": {},
   "outputs": [
    {
     "name": "stdout",
     "output_type": "stream",
     "text": [
      "c:\\Users\\User\\Desktop\\Github\\osmodule1\n"
     ]
    }
   ],
   "source": [
    "os.chdir(r'c:\\Users\\User\\Desktop\\Github\\osmodule1')\n",
    "#print \n",
    "print(os.getcwd())\n",
    "# The output from the print funtion show that the path is changed to what we insert as argument in os.chdir() method "
   ]
  }
 ],
 "metadata": {
  "interpreter": {
   "hash": "8fac594bfae6525c0c41b4041d2d72effa188cc8ead05f81b1fab2bb098927fb"
  },
  "kernelspec": {
   "display_name": "Python 3.9.7 ('base')",
   "language": "python",
   "name": "python3"
  },
  "language_info": {
   "codemirror_mode": {
    "name": "ipython",
    "version": 3
   },
   "file_extension": ".py",
   "mimetype": "text/x-python",
   "name": "python",
   "nbconvert_exporter": "python",
   "pygments_lexer": "ipython3",
   "version": "3.9.7"
  },
  "orig_nbformat": 4
 },
 "nbformat": 4,
 "nbformat_minor": 2
}
